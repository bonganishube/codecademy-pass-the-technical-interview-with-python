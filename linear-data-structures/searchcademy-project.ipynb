{
 "cells": [
  {
   "cell_type": "markdown",
   "id": "34c860be",
   "metadata": {},
   "source": [
    "# Searchcademy Project"
   ]
  },
  {
   "cell_type": "code",
   "execution_count": null,
   "id": "24aeeca6",
   "metadata": {},
   "outputs": [],
   "source": [
    "def sparse_search(data, search_val):\n",
    "    # Print the data and the value we are searching for\n",
    "    print(\"Data: \" + str(data))\n",
    "    print(\"Search Value: \" + str(search_val))\n",
    "\n",
    "    # Initialize the pointers for the binary search\n",
    "    first = 0\n",
    "    last = len(data) - 1\n",
    "\n",
    "    while first <= last:\n",
    "        mid = (first + last) // 2  # Calculate the midpoint\n",
    "\n",
    "        # If the middle element is empty\n",
    "        if not data[mid]:\n",
    "            left = mid - 1\n",
    "            right = mid + 1\n",
    "            \n",
    "            # Look for the nearest non-empty element\n",
    "            while True:\n",
    "                # If we've gone out of bounds\n",
    "                if left < first and right > last:\n",
    "                    print(\"{0} is not in the dataset\".format(search_val))\n",
    "                    return\n",
    "                # Check to the right for a non-empty element\n",
    "                elif right <= last and data[right]:\n",
    "                    mid = right\n",
    "                    break\n",
    "                # Check to the left for a non-empty element\n",
    "                elif left >= first and data[left]:\n",
    "                    mid = left\n",
    "                    break\n",
    "                # Move left and right pointers outward\n",
    "                right += 1\n",
    "                left -= 1\n",
    "\n",
    "        # Check if we've found the search value\n",
    "        if data[mid] == search_val:\n",
    "            print(\"{0} found at position {1}\".format(search_val, mid))\n",
    "            return\n",
    "        # If the search value is less, search the left half\n",
    "        elif search_val < data[mid]:\n",
    "            last = mid - 1\n",
    "        # If the search value is greater, search the right half\n",
    "        elif search_val > data[mid]:\n",
    "            first = mid + 1\n",
    "\n",
    "    # If we exit the loop, the value was not found\n",
    "    print(\"{0} is not in the dataset\".format(search_val))\n",
    "\n",
    "# Example usage (with comments)\n",
    "sparse_search([\"apple\", \"\", \"\", \"banana\", \"\", \"cherry\", \"\", \"\", \"date\"], \"cherry\")  # Should find \"cherry\"\n",
    "sparse_search([\"apple\", \"\", \"\", \"banana\", \"\", \"cherry\", \"\", \"\", \"date\"], \"fig\")     # Should indicate \"fig\" not found\n"
   ]
  }
 ],
 "metadata": {
  "kernelspec": {
   "display_name": "Python 3 (ipykernel)",
   "language": "python",
   "name": "python3"
  },
  "language_info": {
   "codemirror_mode": {
    "name": "ipython",
    "version": 3
   },
   "file_extension": ".py",
   "mimetype": "text/x-python",
   "name": "python",
   "nbconvert_exporter": "python",
   "pygments_lexer": "ipython3",
   "version": "3.11.5"
  }
 },
 "nbformat": 4,
 "nbformat_minor": 5
}
