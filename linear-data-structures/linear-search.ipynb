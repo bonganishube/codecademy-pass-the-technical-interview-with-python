{
 "cells": [
  {
   "cell_type": "markdown",
   "id": "7a47b58f",
   "metadata": {},
   "source": [
    "# Linear Search"
   ]
  },
  {
   "cell_type": "code",
   "execution_count": null,
   "id": "d30e5b2b",
   "metadata": {},
   "outputs": [],
   "source": [
    "# For each element in the search_list\n",
    "    # if element equal target value then\n",
    "       # return its index\n",
    "# if element is not found then \n",
    "    # raise a ValueError"
   ]
  },
  {
   "cell_type": "code",
   "execution_count": null,
   "id": "bc11ee7c",
   "metadata": {},
   "outputs": [],
   "source": [
    "# List of numbers to search through\n",
    "number_list = [10, 14, 19, 26, 27, 31, 33, 35, 42, 44]\n",
    "# The target number we want to find\n",
    "target_number = 33\n",
    "\n",
    "# Function to perform linear search\n",
    "def linear_search(search_list, target_value):\n",
    "    # Iterate over the indices of the search list\n",
    "    for idx in range(len(search_list)):\n",
    "        # Check if the current element matches the target value\n",
    "        if search_list[idx] == target_value:\n",
    "            # If found, return the index\n",
    "            return idx\n",
    "    # If the target value is not found, raise an error\n",
    "    raise ValueError(\"{0} not in list\".format(target_value))\n",
    "\n",
    "# Attempt to call the linear_search function\n",
    "try:\n",
    "    # Call the function with the number list and a target value\n",
    "    result = linear_search(number_list, 100)  # Searching for 100, which is not in the list\n",
    "    print(result)  # Print the result if found\n",
    "except ValueError as error_message:\n",
    "    # Handle the case where the target value is not found\n",
    "    print(\"{0}\".format(error_message))  # Print the error message\n"
   ]
  },
  {
   "cell_type": "markdown",
   "id": "bf23767f",
   "metadata": {},
   "source": [
    "## Finding Duplicates"
   ]
  },
  {
   "cell_type": "code",
   "execution_count": null,
   "id": "be426318",
   "metadata": {},
   "outputs": [],
   "source": [
    "# List of tourist locations\n",
    "tour_locations = [\"New York City\", \"Los Angeles\", \"Bangkok\", \"Istanbul\", \"London\", \"New York City\", \"Toronto\"]\n",
    "# The target city we want to search for in the list\n",
    "target_city = \"New York City\"\n",
    "\n",
    "# Linear Search Algorithm\n",
    "def linear_search(search_list, target_value):\n",
    "    # Initialize an empty list to store the indices of matches\n",
    "    matches = []\n",
    "    \n",
    "    # Iterate over the indices of the search_list\n",
    "    for idx in range(len(search_list)):\n",
    "        # Check if the current item matches the target value\n",
    "        if search_list[idx] == target_value:\n",
    "            # If it matches, append the index to the matches list\n",
    "            matches.append(idx)\n",
    "    \n",
    "    # Check if any matches were found\n",
    "    if matches:\n",
    "        # Return the list of indices where the target was found\n",
    "        return matches\n",
    "    else:\n",
    "        # Raise an error if the target value was not found in the list\n",
    "        raise ValueError(\"{0} not in list\".format(target_value))\n",
    "\n",
    "# Function call to search for the target city in the list of tour locations\n",
    "tour_stops = linear_search(tour_locations, target_city)\n",
    "# Print the indices of the locations where the target city was found\n",
    "print(tour_stops)\n"
   ]
  },
  {
   "cell_type": "markdown",
   "id": "f3a734cf",
   "metadata": {},
   "source": [
    "## Finding the Maximum Value"
   ]
  },
  {
   "cell_type": "code",
   "execution_count": null,
   "id": "44e81277",
   "metadata": {},
   "outputs": [],
   "source": [
    "# List of test scores\n",
    "test_scores = [88, 93, 75, 100, 80, 67, 71, 92, 90, 83]\n",
    "\n",
    "# Linear Search Algorithm to find the index of the maximum score\n",
    "def linear_search(search_list):\n",
    "    # Initialize the variable to store the index of the maximum score\n",
    "    maximum_score_index = None\n",
    "    \n",
    "    # Iterate over the indices of the search_list\n",
    "    for idx in range(len(search_list)):\n",
    "        # Check if maximum_score_index is None or the current score is greater than the current maximum score\n",
    "        if maximum_score_index is None or search_list[idx] > search_list[maximum_score_index]:\n",
    "            # Update maximum_score_index to the current index\n",
    "            maximum_score_index = idx\n",
    "            \n",
    "    # Return the index of the highest score found\n",
    "    return maximum_score_index\n",
    "    # The following line is commented out since we don't raise an error in this function\n",
    "    # raise ValueError(\"{0} not in list\".format(target_value))\n",
    "\n",
    "# Function call to find the index of the highest score in the list of test scores\n",
    "highest_score = linear_search(test_scores)\n",
    "\n",
    "# Print the index of the highest score in the list\n",
    "print(highest_score)\n"
   ]
  }
 ],
 "metadata": {
  "kernelspec": {
   "display_name": "Python 3 (ipykernel)",
   "language": "python",
   "name": "python3"
  },
  "language_info": {
   "codemirror_mode": {
    "name": "ipython",
    "version": 3
   },
   "file_extension": ".py",
   "mimetype": "text/x-python",
   "name": "python",
   "nbconvert_exporter": "python",
   "pygments_lexer": "ipython3",
   "version": "3.11.5"
  }
 },
 "nbformat": 4,
 "nbformat_minor": 5
}
