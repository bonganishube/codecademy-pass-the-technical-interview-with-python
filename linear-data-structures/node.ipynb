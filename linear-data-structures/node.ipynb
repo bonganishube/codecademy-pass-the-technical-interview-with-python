{
 "cells": [
  {
   "cell_type": "markdown",
   "id": "be073438",
   "metadata": {},
   "source": [
    "# Node"
   ]
  },
  {
   "cell_type": "code",
   "execution_count": null,
   "id": "f589f183",
   "metadata": {},
   "outputs": [],
   "source": [
    "# Define the Node class to represent a single node in a linked list\n",
    "class Node:\n",
    "    # Initialize the node with a value and an optional link to another node\n",
    "    def __init__(self, value, link_node=None):\n",
    "        self.value = value  \n",
    "        self.link_node = link_node\n",
    "    \n",
    "    # Method to get the value of the current node\n",
    "    def get_value(self):\n",
    "        return self.value\n",
    "\n",
    "    # Method to get the link to the next node\n",
    "    def get_link_node(self):\n",
    "        return self.link_node\n",
    "    \n",
    "    # Method to set the link to the next node\n",
    "    def set_link_node(self, link_node):\n",
    "        self.link_node = link_node"
   ]
  },
  {
   "cell_type": "code",
   "execution_count": null,
   "id": "82dd1e7e",
   "metadata": {},
   "outputs": [],
   "source": [
    "# Create instances of Node with specific values\n",
    "yacko = Node(\"likes to yak\")\n",
    "dot = Node(\"enjoys spending time in movie lots\")\n",
    "wacko = Node(\"has a penchant for hoarding snacks\")\n",
    "\n",
    "# Link the nodes together to form a chain\n",
    "yacko.set_link_node(dot)  # yacko points to dot\n",
    "dot.set_link_node(wacko)  # dot points to wacko"
   ]
  },
  {
   "cell_type": "code",
   "execution_count": null,
   "id": "ecc8bc53",
   "metadata": {},
   "outputs": [],
   "source": [
    "# Retrieve the values from the linked nodes\n",
    "dots_data = yacko.get_link_node().get_value()  # Get the value of the node linked to yacko (dot)\n",
    "wackos_data = dot.get_link_node().get_value()   # Get the value of the node linked to dot (wacko)\n",
    "\n",
    "# Print the retrieved values\n",
    "print(dots_data)\n",
    "print(wackos_data)"
   ]
  }
 ],
 "metadata": {
  "kernelspec": {
   "display_name": "Python 3 (ipykernel)",
   "language": "python",
   "name": "python3"
  },
  "language_info": {
   "codemirror_mode": {
    "name": "ipython",
    "version": 3
   },
   "file_extension": ".py",
   "mimetype": "text/x-python",
   "name": "python",
   "nbconvert_exporter": "python",
   "pygments_lexer": "ipython3",
   "version": "3.11.5"
  }
 },
 "nbformat": 4,
 "nbformat_minor": 5
}
