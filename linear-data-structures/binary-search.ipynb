{
 "cells": [
  {
   "cell_type": "markdown",
   "id": "9b87c98f",
   "metadata": {},
   "source": [
    "# Binary Search"
   ]
  },
  {
   "cell_type": "code",
   "execution_count": null,
   "id": "57ce3427",
   "metadata": {},
   "outputs": [],
   "source": [
    "def binary_search(sorted_list, target):\n",
    "    # Check if the list is empty\n",
    "    if not sorted_list:\n",
    "        return 'value not found'\n",
    "    \n",
    "    # Calculate the middle index of the list\n",
    "    mid_idx = len(sorted_list) // 2\n",
    "    mid_val = sorted_list[mid_idx]  # Get the value at the middle index\n",
    "    \n",
    "    # Check if the middle value is the target\n",
    "    if mid_val == target:\n",
    "        return mid_idx  # Return the index if found\n",
    "    \n",
    "    # If the middle value is greater than the target, search in the left half\n",
    "    if mid_val > target:\n",
    "        left_half = sorted_list[:mid_idx]  # Get the left half of the list\n",
    "        return binary_search(left_half, target)  # Recursively search in the left half\n",
    "    \n",
    "    # If the middle value is less than the target, search in the right half\n",
    "    if mid_val < target:\n",
    "        right_half = sorted_list[mid_idx + 1:]  # Get the right half of the list\n",
    "        result = binary_search(right_half, target)  # Recursively search in the right half\n",
    "        \n",
    "        # Adjust the index if the target is found in the right half\n",
    "        if result == \"value not found\":\n",
    "            return result  # Return if not found\n",
    "        else:\n",
    "            return result + mid_idx + 1  # Adjust the index for the right half\n",
    "\n",
    "# For testing:\n",
    "sorted_values = [13, 14, 15, 16, 17]\n",
    "print(binary_search(sorted_values, 16))  # Expected output: 3 (index of 16)\n"
   ]
  },
  {
   "cell_type": "markdown",
   "id": "dbbb2420",
   "metadata": {},
   "source": [
    "We can do better by using pointers instead of copying the list. Pointers are indices stored in a variable that mark the beginning and end of a list:"
   ]
  },
  {
   "cell_type": "markdown",
   "id": "5c9aad9a",
   "metadata": {},
   "source": [
    "With pointers, we’ll track which sub-list we’re searching within the original input and there’s no need for copying."
   ]
  },
  {
   "cell_type": "code",
   "execution_count": 1,
   "id": "8aeba61f",
   "metadata": {},
   "outputs": [
    {
     "name": "stdout",
     "output_type": "stream",
     "text": [
      "Element 288 is located at index 4\n"
     ]
    }
   ],
   "source": [
    "def binary_search(sorted_list, left_pointer, right_pointer, target):\n",
    "    # This condition indicates we've reached an empty \"sub-list\"\n",
    "    if left_pointer >= right_pointer:\n",
    "        return \"value not found\"\n",
    "    \n",
    "    # Calculate the middle index based on the current pointers\n",
    "    mid_idx = (left_pointer + right_pointer) // 2\n",
    "    mid_val = sorted_list[mid_idx]  # Get the value at the middle index\n",
    "\n",
    "    # Check if the middle value is the target\n",
    "    if mid_val == target:\n",
    "        return mid_idx  # Return the index if found\n",
    "    \n",
    "    # If the middle value is greater than the target, search in the left sub-list\n",
    "    if mid_val > target:\n",
    "        return binary_search(sorted_list, left_pointer, mid_idx, target)  # Update right_pointer\n",
    "    \n",
    "    # If the middle value is less than the target, search in the right sub-list\n",
    "    if mid_val < target:\n",
    "        return binary_search(sorted_list, mid_idx + 1, right_pointer, target)  # Update left_pointer\n",
    "\n",
    "# Test case\n",
    "values = [77, 80, 102, 123, 288, 300, 540]  # Sorted list of values\n",
    "start_of_values = 0  # Starting index\n",
    "end_of_values = len(values)  # Ending index (length of the list)\n",
    "result = binary_search(values, start_of_values, end_of_values, 288)  # Search for target value 288\n",
    "\n",
    "# Output the result\n",
    "print(\"Element {0} is located at index {1}\".format(288, result))  # Expected output: index of 288\n"
   ]
  },
  {
   "cell_type": "markdown",
   "id": "ad26573d",
   "metadata": {},
   "source": [
    "## Iterative Binary Search"
   ]
  },
  {
   "cell_type": "code",
   "execution_count": null,
   "id": "44913434",
   "metadata": {},
   "outputs": [],
   "source": [
    "def binary_search(sorted_list, target):\n",
    "    # Initialize the left and right pointers\n",
    "    left_pointer = 0\n",
    "    right_pointer = len(sorted_list)  # Right pointer is exclusive\n",
    "    \n",
    "    # Loop until the left pointer is less than the right pointer\n",
    "    while left_pointer < right_pointer:\n",
    "        # Calculate the middle index\n",
    "        mid_idx = (left_pointer + right_pointer) // 2\n",
    "        mid_val = sorted_list[mid_idx]  # Get the value at the middle index\n",
    "        \n",
    "        # Check if the middle value is the target\n",
    "        if mid_val == target:\n",
    "            return mid_idx  # Target found, return its index\n",
    "        \n",
    "        # If the target is less than the middle value\n",
    "        if target < mid_val:\n",
    "            right_pointer = mid_idx  # Narrow down to the left half\n",
    "            \n",
    "        # If the target is greater than the middle value\n",
    "        else:  # No need to check mid_val == target again\n",
    "            left_pointer = mid_idx + 1  # Narrow down to the right half\n",
    "    \n",
    "    return \"Value not in list\"  # Target not found\n",
    "\n",
    "# Test cases to validate the function\n",
    "print(binary_search([5, 6, 7, 8, 9], 9))  # Should return 4 (index of 9)\n",
    "print(binary_search([5, 6, 7, 8, 9], 10)) # Should return \"Value not in list\"\n",
    "print(binary_search([5, 6, 7, 8, 9], 8))  # Should return 3 (index of 8)\n",
    "print(binary_search([5, 6, 7, 8, 9], 4))  # Should return \"Value not in list\"\n",
    "print(binary_search([5, 6, 7, 8, 9], 6))  # Should return 1 (index of 6)\n"
   ]
  }
 ],
 "metadata": {
  "kernelspec": {
   "display_name": "Python 3 (ipykernel)",
   "language": "python",
   "name": "python3"
  },
  "language_info": {
   "codemirror_mode": {
    "name": "ipython",
    "version": 3
   },
   "file_extension": ".py",
   "mimetype": "text/x-python",
   "name": "python",
   "nbconvert_exporter": "python",
   "pygments_lexer": "ipython3",
   "version": "3.11.5"
  }
 },
 "nbformat": 4,
 "nbformat_minor": 5
}
