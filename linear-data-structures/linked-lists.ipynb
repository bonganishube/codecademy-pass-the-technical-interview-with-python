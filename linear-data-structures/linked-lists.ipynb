{
 "cells": [
  {
   "cell_type": "markdown",
   "id": "aedf06e4",
   "metadata": {},
   "source": [
    "# Linked Lists"
   ]
  },
  {
   "cell_type": "code",
   "execution_count": null,
   "id": "8e9d2686",
   "metadata": {},
   "outputs": [],
   "source": [
    "# Define the Node class to represent a single node in a linked list\n",
    "class Node:\n",
    "    # Initialize the node with a value and an optional reference to the next node\n",
    "    def __init__(self, value, next_node=None):\n",
    "        self.value = value        \n",
    "        self.next_node = next_node\n",
    "\n",
    "    # Method to get the value of the current node\n",
    "    def get_value(self):\n",
    "        return self.value\n",
    "\n",
    "    # Method to get the link to the next node\n",
    "    def get_next_node(self):\n",
    "        return self.next_node\n",
    "\n",
    "    # Method to set the link to the next node\n",
    "    def set_next_node(self, next_node):\n",
    "        self.next_node = next_node\n",
    "\n",
    "# Create an instance of Node with the value 44\n",
    "my_node = Node(44)\n"
   ]
  },
  {
   "cell_type": "code",
   "execution_count": null,
   "id": "1f1bbcd3",
   "metadata": {},
   "outputs": [],
   "source": [
    "# Define the LinkedList class to represent a simple linked list\n",
    "class LinkedList:\n",
    "    # Initialize the linked list with an optional value for the head node\n",
    "    def __init__(self, value=None):\n",
    "        self.head_node = Node(value)\n",
    "\n",
    "    # Method to get the head node of the linked list\n",
    "    def get_head_node(self):\n",
    "        return self.head_node \n",
    "    \n",
    "    # Method to insert a new node at the beginning of the list\n",
    "    def insert_beginning(self, new_value):\n",
    "        new_node = Node(new_value)             # Create a new node with the provided value\n",
    "        new_node.set_next_node(self.head_node) # Link the new node to the current head node\n",
    "        self.head_node = new_node              # Update the head node to the new node\n",
    "\n",
    "    # Method to create a string representation of the linked list\n",
    "    def stringify_list(self):\n",
    "        string_list = \"\"                       # Initialize an empty string to hold the list's values\n",
    "        current_node = self.get_head_node()    # Start from the head node\n",
    "        \n",
    "        # Traverse through the linked list\n",
    "        while current_node:\n",
    "            if current_node.get_value() is not None:  # Check if the current node's value is not None\n",
    "                string_list += str(current_node.get_value()) + \"\\n\"  # Append the value to the string\n",
    "            current_node = current_node.get_next_node()  # Move to the next node\n",
    "        \n",
    "        return string_list  # Return the string representation of the list\n",
    "\n",
    "# Test your code by creating a LinkedList and inserting values\n",
    "ll = LinkedList(5)         # Create a linked list with head node value 5\n",
    "ll.insert_beginning(70)    # Insert 70 at the beginning\n",
    "ll.insert_beginning(5675)  # Insert 5675 at the beginning\n",
    "ll.insert_beginning(90)    # Insert 90 at the beginning\n",
    "\n",
    "# Print the string representation of the linked list\n",
    "print(ll.stringify_list())\n"
   ]
  }
 ],
 "metadata": {
  "kernelspec": {
   "display_name": "Python 3 (ipykernel)",
   "language": "python",
   "name": "python3"
  },
  "language_info": {
   "codemirror_mode": {
    "name": "ipython",
    "version": 3
   },
   "file_extension": ".py",
   "mimetype": "text/x-python",
   "name": "python",
   "nbconvert_exporter": "python",
   "pygments_lexer": "ipython3",
   "version": "3.11.5"
  }
 },
 "nbformat": 4,
 "nbformat_minor": 5
}
